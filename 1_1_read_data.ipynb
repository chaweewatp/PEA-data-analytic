{
 "cells": [
  {
   "cell_type": "code",
   "execution_count": 1,
   "metadata": {
    "collapsed": true
   },
   "outputs": [],
   "source": [
    "import pandas as pd\n",
    "from tqdm import tqdm\n"
   ]
  },
  {
   "cell_type": "code",
   "execution_count": null,
   "metadata": {
    "collapsed": true
   },
   "outputs": [],
   "source": []
  },
  {
   "cell_type": "code",
   "execution_count": null,
   "metadata": {
    "collapsed": true
   },
   "outputs": [],
   "source": []
  },
  {
   "cell_type": "markdown",
   "metadata": {},
   "source": [
    "# read invoice"
   ]
  },
  {
   "cell_type": "code",
   "execution_count": 2,
   "metadata": {
    "collapsed": true
   },
   "outputs": [],
   "source": [
    "PATH = 'DataSource/invoice.csv'\n",
    "chunksize = 50000\n",
    "traintypes = {\n",
    "'OPBEL':'int64',\n",
    "'OPUPK': 'int64',\n",
    "'OPUPZ':'int64',\n",
    "}\n",
    "\n",
    "cols = list(traintypes.keys())\n"
   ]
  },
  {
   "cell_type": "code",
   "execution_count": null,
   "metadata": {},
   "outputs": [],
   "source": [
    "for df_chunk in tqdm(pd.read_csv(PATH, sep=';',usecols=cols, dtype=traintypes, chunksize=chunksize), desc='read invoice file'):\n",
    "    #do something\n",
    "    print(len(df_chunk))\n",
    "    pass"
   ]
  },
  {
   "cell_type": "code",
   "execution_count": null,
   "metadata": {},
   "outputs": [],
   "source": []
  },
  {
   "cell_type": "markdown",
   "metadata": {},
   "source": [
    "# read payment file"
   ]
  },
  {
   "cell_type": "code",
   "execution_count": 27,
   "metadata": {},
   "outputs": [],
   "source": [
    "PATH = 'DataSource/payment2017.csv'\n",
    "chunksize = 50000\n"
   ]
  },
  {
   "cell_type": "code",
   "execution_count": 28,
   "metadata": {},
   "outputs": [
    {
     "name": "stderr",
     "output_type": "stream",
     "text": [
      "\n",
      "\n",
      "read invoice file: 0it [00:00, ?it/s]\u001b[A\u001b[A/Users/pornchaichaweewat/anaconda3/lib/python3.6/site-packages/IPython/core/interactiveshell.py:2802: DtypeWarning: Columns (1,11) have mixed types. Specify dtype option on import or set low_memory=False.\n",
      "  if self.run_code(code, result):\n",
      "\n",
      "\n",
      "read invoice file: 1it [00:02,  2.31s/it]\u001b[A\u001b[A"
     ]
    },
    {
     "name": "stdout",
     "output_type": "stream",
     "text": [
      "   DFKKKO-OPBEL XBLNR_RECEIPT_NO  XBLNR_EPAYMENT_  RECEIPT_NO  \\\n",
      "0   30001299331              NaN                          NaN   \n",
      "1   30001299332              NaN                          NaN   \n",
      "2   30001299333              NaN                          NaN   \n",
      "3   30001299334              NaN                          NaN   \n",
      "4   30001299335              NaN                          NaN   \n",
      "\n",
      "             BLDAT_RECEIPT_DATE                  BUDAT_GLPOST BLART  \\\n",
      "0  2017-01-06  00:00:00.0000000  2017-01-06  00:00:00.0000000    IW   \n",
      "1  2017-01-06  00:00:00.0000000  2017-01-06  00:00:00.0000000    IW   \n",
      "2  2017-01-06  00:00:00.0000000  2017-01-06  00:00:00.0000000    IW   \n",
      "3  2017-01-06  00:00:00.0000000  2017-01-06  00:00:00.0000000    IW   \n",
      "4  2017-01-06  00:00:00.0000000  2017-01-06  00:00:00.0000000    IW   \n",
      "\n",
      "   DFKKOP-OPBEL  OPUPK  OPUPZ                         FAEDN  ...   BETRH  \\\n",
      "0   63004227459      1      0  2016-12-23  00:00:00.0000000  ...   300.0   \n",
      "1   67004179046      1      0  2016-12-23  00:00:00.0000000  ...  2800.0   \n",
      "2   63004164094      1      0  2016-11-14  00:00:00.0000000  ...  1200.0   \n",
      "3   63004222915      1      0  2016-12-21  00:00:00.0000000  ...   800.0   \n",
      "4   60004114059      1      0  2016-11-16  00:00:00.0000000  ...  2000.0   \n",
      "\n",
      "  SBETH  BUDAT_REVERSE  STORB IMPORT_FLAG           IMPORT_DATE  \\\n",
      "0   0.0              N    NaN           N  2017-01-07  04:23:08   \n",
      "1   0.0              N    NaN           N  2017-01-07  04:23:08   \n",
      "2   0.0              N    NaN           N  2017-01-07  04:23:08   \n",
      "3   0.0              N    NaN           N  2017-01-07  04:23:08   \n",
      "4   0.0              N    NaN           N  2017-01-07  04:23:08   \n",
      "\n",
      "                    ARCHIVEDATE payid                        VKONT_Hash  \\\n",
      "0  2017-10-24  19:03:03.6359227     1  cc57c743a3de3fb952e9a68bb3988c9e   \n",
      "1  2017-09-12  10:29:26.1239996     2  e48eeb854611e3a40cda0a7b4f2d180f   \n",
      "2  2017-05-18  00:34:06.9275573     3  553d9236198dbff8e2567917d38b931f   \n",
      "3  2017-10-03  05:32:40.9009658     4  3801b72b57b45328ddbea021958b8f3a   \n",
      "4  2017-05-20  05:56:59.6598534     5  ffff6fd8d1f8160be18dfd79fe856e4f   \n",
      "\n",
      "                       ZZBUPLA_Hash  \n",
      "0  dd1e0a262ecf6a3d052359d5adb46608  \n",
      "1  dd1e0a262ecf6a3d052359d5adb46608  \n",
      "2  dd1e0a262ecf6a3d052359d5adb46608  \n",
      "3  dd1e0a262ecf6a3d052359d5adb46608  \n",
      "4  dd1e0a262ecf6a3d052359d5adb46608  \n",
      "\n",
      "[5 rows x 22 columns]\n"
     ]
    },
    {
     "name": "stderr",
     "output_type": "stream",
     "text": [
      "\n",
      "\n",
      "read invoice file: 2it [00:04,  2.27s/it]\u001b[A\u001b[A"
     ]
    },
    {
     "name": "stdout",
     "output_type": "stream",
     "text": [
      "        DFKKKO-OPBEL  XBLNR_RECEIPT_NO  XBLNR_EPAYMENT_  RECEIPT_NO  \\\n",
      "500000  757051305019  J011013404609960                          NaN   \n",
      "500001  757051305020  J011013404609961                          NaN   \n",
      "500002  757051305021  J011013404609963                          NaN   \n",
      "500003  757051305022  J011013404609977                          NaN   \n",
      "500004  757051305023  J011013404609984                          NaN   \n",
      "\n",
      "                  BLDAT_RECEIPT_DATE                  BUDAT_GLPOST BLART  \\\n",
      "500000  2017-08-22  00:00:00.0000000  2017-08-22  00:00:00.0000000    MA   \n",
      "500001  2017-08-22  00:00:00.0000000  2017-08-22  00:00:00.0000000    MA   \n",
      "500002  2017-08-22  00:00:00.0000000  2017-08-22  00:00:00.0000000    MA   \n",
      "500003  2017-08-22  00:00:00.0000000  2017-08-22  00:00:00.0000000    MA   \n",
      "500004  2017-08-22  00:00:00.0000000  2017-08-22  00:00:00.0000000    MA   \n",
      "\n",
      "        DFKKOP-OPBEL  OPUPK  OPUPZ                         FAEDN  ...  BETRH  \\\n",
      "500000  399251415628      1      0  2017-08-28  00:00:00.0000000  ...  70.11   \n",
      "500001  399251415629      1      0  2017-08-28  00:00:00.0000000  ...   8.19   \n",
      "500002  399251415631      1      0  2017-08-28  00:00:00.0000000  ...  42.45   \n",
      "500003  399251415645      1      0  2017-09-11  00:00:00.0000000  ...   8.19   \n",
      "500004  399251415652      1      0  2017-08-28  00:00:00.0000000  ...   8.19   \n",
      "\n",
      "        SBETH  BUDAT_REVERSE  STORB IMPORT_FLAG           IMPORT_DATE  \\\n",
      "500000    0.0              N    NaN           N  2017-08-22  06:34:54   \n",
      "500001    0.0              N    NaN           N  2017-08-22  06:34:54   \n",
      "500002    0.0              N    NaN           N  2017-08-22  06:34:54   \n",
      "500003    0.0              N    NaN           N  2017-08-22  06:34:54   \n",
      "500004    0.0              N    NaN           N  2017-08-22  06:34:54   \n",
      "\n",
      "                         ARCHIVEDATE   payid  \\\n",
      "500000  2018-02-25  10:57:39.0241987  858392   \n",
      "500001  2018-02-26  16:47:04.0776283  858393   \n",
      "500002  2018-02-27  04:25:59.9474612  858394   \n",
      "500003  2018-02-27  02:10:26.3360437  858395   \n",
      "500004  2018-02-26  03:54:35.3534449  858396   \n",
      "\n",
      "                              VKONT_Hash                      ZZBUPLA_Hash  \n",
      "500000  1ceab893b9301c61f4f87fd29ed2816d  747166c88de951d75462f0cf992c97b9  \n",
      "500001  6767aba4b4bac0762e2397fd8e157455  747166c88de951d75462f0cf992c97b9  \n",
      "500002  7eacbbc27f24da92032157653fc95818  747166c88de951d75462f0cf992c97b9  \n",
      "500003  2c23f79f476bbaaee40c70046feac65a  747166c88de951d75462f0cf992c97b9  \n",
      "500004  66a3626e8a31d30858f95240cfa99da3  747166c88de951d75462f0cf992c97b9  \n",
      "\n",
      "[5 rows x 22 columns]\n"
     ]
    },
    {
     "name": "stderr",
     "output_type": "stream",
     "text": [
      "/Users/pornchaichaweewat/anaconda3/lib/python3.6/site-packages/IPython/core/interactiveshell.py:2802: DtypeWarning: Columns (2,11) have mixed types. Specify dtype option on import or set low_memory=False.\n",
      "  if self.run_code(code, result):\n",
      "\n",
      "\n",
      "read invoice file: 3it [00:06,  2.30s/it]\u001b[A\u001b[A"
     ]
    },
    {
     "name": "stdout",
     "output_type": "stream",
     "text": [
      "         DFKKKO-OPBEL  XBLNR_RECEIPT_NO XBLNR_EPAYMENT_  RECEIPT_NO  \\\n",
      "1000000  792601006026  E081851004293759                         NaN   \n",
      "1000001  792601006027  E081851004293761                         NaN   \n",
      "1000002  792601006028  E081851004293765                         NaN   \n",
      "1000003  792601006029  E081851004293770                         NaN   \n",
      "1000004  792601006030  E081851004293773                         NaN   \n",
      "\n",
      "                   BLDAT_RECEIPT_DATE                  BUDAT_GLPOST BLART  \\\n",
      "1000000  2017-04-19  00:00:00.0000000  2017-04-19  00:00:00.0000000    MA   \n",
      "1000001  2017-04-19  00:00:00.0000000  2017-04-19  00:00:00.0000000    MA   \n",
      "1000002  2017-04-19  00:00:00.0000000  2017-04-19  00:00:00.0000000    MA   \n",
      "1000003  2017-04-19  00:00:00.0000000  2017-04-19  00:00:00.0000000    MA   \n",
      "1000004  2017-04-19  00:00:00.0000000  2017-04-19  00:00:00.0000000    MA   \n",
      "\n",
      "         DFKKOP-OPBEL  OPUPK  OPUPZ                         FAEDN  ...  \\\n",
      "1000000  369101165855      1      0  2017-04-25  00:00:00.0000000  ...   \n",
      "1000001  369101165857      1      0  2017-04-25  00:00:00.0000000  ...   \n",
      "1000002  369101165861      1      0  2017-04-25  00:00:00.0000000  ...   \n",
      "1000003  369101165866      1      0  2017-04-25  00:00:00.0000000  ...   \n",
      "1000004  369101165869      1      0  2017-04-25  00:00:00.0000000  ...   \n",
      "\n",
      "          BETRH SBETH  BUDAT_REVERSE  STORB IMPORT_FLAG           IMPORT_DATE  \\\n",
      "1000000  121.92   0.0              N    NaN           N  2017-04-19  06:37:15   \n",
      "1000001    8.19   0.0              N    NaN           N  2017-04-19  06:37:15   \n",
      "1000002    8.19   0.0              N    NaN           N  2017-04-19  06:37:15   \n",
      "1000003   48.28   0.0              N    NaN           N  2017-04-19  06:37:15   \n",
      "1000004   92.67   0.0              N    NaN           N  2017-04-19  06:37:15   \n",
      "\n",
      "                          ARCHIVEDATE    payid  \\\n",
      "1000000  2017-11-01  18:22:31.0900102  1754831   \n",
      "1000001  2017-11-04  11:07:48.5283964  1754832   \n",
      "1000002  2017-11-08  22:44:56.1549728  1754833   \n",
      "1000003  2017-10-30  13:40:18.0499414  1754834   \n",
      "1000004  2017-10-29  22:52:32.1392711  1754835   \n",
      "\n",
      "                               VKONT_Hash                      ZZBUPLA_Hash  \n",
      "1000000  dac67c7e978feeabda939a84d8a750d6  6b2ac5ef42ea6bcea0786d9b6b64ccc2  \n",
      "1000001  c5b968f44e28b1470f2a4bb96a338081  6b2ac5ef42ea6bcea0786d9b6b64ccc2  \n",
      "1000002  a4b5b5c0e815f2c25ff316466a9d05d2  6b2ac5ef42ea6bcea0786d9b6b64ccc2  \n",
      "1000003  0a1e3de08da8dff1e0cdbc2ecc277f7b  6b2ac5ef42ea6bcea0786d9b6b64ccc2  \n",
      "1000004  f380d8f3e83edbb7e57963e3bd465f74  6b2ac5ef42ea6bcea0786d9b6b64ccc2  \n",
      "\n",
      "[5 rows x 22 columns]\n"
     ]
    },
    {
     "name": "stderr",
     "output_type": "stream",
     "text": [
      "\n",
      "\n",
      "read invoice file: 4it [00:09,  2.29s/it]\u001b[A\u001b[A"
     ]
    },
    {
     "name": "stdout",
     "output_type": "stream",
     "text": [
      "         DFKKKO-OPBEL  XBLNR_RECEIPT_NO XBLNR_EPAYMENT_  RECEIPT_NO  \\\n",
      "1500000  844801226032  A515146002270548                         NaN   \n",
      "1500001  844801226033  A358696002270429                         NaN   \n",
      "1500002  844801226034  A358696002270436                         NaN   \n",
      "1500003  844801226035  A358696002270437                         NaN   \n",
      "1500004  844801226036  A358696002270435                         NaN   \n",
      "\n",
      "                   BLDAT_RECEIPT_DATE                  BUDAT_GLPOST BLART  \\\n",
      "1500000  2017-02-27  00:00:00.0000000  2017-02-27  00:00:00.0000000    PE   \n",
      "1500001  2017-02-27  00:00:00.0000000  2017-02-27  00:00:00.0000000    PE   \n",
      "1500002  2017-02-27  00:00:00.0000000  2017-02-27  00:00:00.0000000    PE   \n",
      "1500003  2017-02-27  00:00:00.0000000  2017-02-27  00:00:00.0000000    PE   \n",
      "1500004  2017-02-27  00:00:00.0000000  2017-02-27  00:00:00.0000000    PE   \n",
      "\n",
      "         DFKKOP-OPBEL  OPUPK  OPUPZ                         FAEDN  ...  \\\n",
      "1500000  392501364380      1      0  2017-02-21  00:00:00.0000000  ...   \n",
      "1500001  308376190663      1      0  2017-03-03  00:00:00.0000000  ...   \n",
      "1500002  305313606620      1      0  2017-02-27  00:00:00.0000000  ...   \n",
      "1500003  317401256915      1      0  2017-02-27  00:00:00.0000000  ...   \n",
      "1500004  379376342558      1      0  2017-02-27  00:00:00.0000000  ...   \n",
      "\n",
      "           BETRH   SBETH  BUDAT_REVERSE  STORB IMPORT_FLAG  \\\n",
      "1500000   130.45    8.53              N    NaN           N   \n",
      "1500001   102.63    6.71              N    NaN           N   \n",
      "1500002   273.07   17.86              N    NaN           N   \n",
      "1500003  1579.49  103.33              N    NaN           N   \n",
      "1500004   220.89   14.45              N    NaN           N   \n",
      "\n",
      "                  IMPORT_DATE                   ARCHIVEDATE    payid  \\\n",
      "1500000  2017-02-28  06:41:34  2017-09-10  14:49:08.2646976  2695319   \n",
      "1500001  2017-02-28  06:41:34  2017-10-13  00:05:07.7046530  2695320   \n",
      "1500002  2017-02-28  06:41:34  2017-09-26  15:09:34.9164530  2695321   \n",
      "1500003  2017-02-28  06:41:34  2017-10-18  00:44:18.2806017  2695322   \n",
      "1500004  2017-02-28  06:41:34  2017-10-24  19:14:53.0376331  2695323   \n",
      "\n",
      "                               VKONT_Hash                      ZZBUPLA_Hash  \n",
      "1500000  45f3ea64741e958457e3b7d4ddb833bb  6b2ac5ef42ea6bcea0786d9b6b64ccc2  \n",
      "1500001  1948b5e9bfb829b118c25f99af768157  6b2ac5ef42ea6bcea0786d9b6b64ccc2  \n",
      "1500002  c2bae701ee79bbbc510a380343bfc136  6b2ac5ef42ea6bcea0786d9b6b64ccc2  \n",
      "1500003  4b65b0d5f0abe872ea5103a03f75fad9  6b2ac5ef42ea6bcea0786d9b6b64ccc2  \n",
      "1500004  11d45ad14b02824a2347fc0d28f106cc  6b2ac5ef42ea6bcea0786d9b6b64ccc2  \n",
      "\n",
      "[5 rows x 22 columns]\n"
     ]
    },
    {
     "name": "stderr",
     "output_type": "stream",
     "text": [
      "\n",
      "\n",
      "read invoice file: 5it [00:09,  1.70s/it]\u001b[A\u001b[A"
     ]
    },
    {
     "name": "stdout",
     "output_type": "stream",
     "text": [
      "         DFKKKO-OPBEL  XBLNR_RECEIPT_NO XBLNR_EPAYMENT_  RECEIPT_NO  \\\n",
      "2000000  882600772379  A427836003270045                         NaN   \n",
      "2000001  882600772380  A427836003270043                         NaN   \n",
      "2000002  882600772381  A427836003270042                         NaN   \n",
      "2000003  882600772382  A427836003270048                         NaN   \n",
      "2000004  882600772383  A427836003270033                         NaN   \n",
      "\n",
      "                   BLDAT_RECEIPT_DATE                  BUDAT_GLPOST BLART  \\\n",
      "2000000  2017-03-27  00:00:00.0000000  2017-03-27  00:00:00.0000000    PI   \n",
      "2000001  2017-03-27  00:00:00.0000000  2017-03-27  00:00:00.0000000    PI   \n",
      "2000002  2017-03-27  00:00:00.0000000  2017-03-27  00:00:00.0000000    PI   \n",
      "2000003  2017-03-27  00:00:00.0000000  2017-03-27  00:00:00.0000000    PI   \n",
      "2000004  2017-03-27  00:00:00.0000000  2017-03-27  00:00:00.0000000    PI   \n",
      "\n",
      "         DFKKOP-OPBEL  OPUPK  OPUPZ                         FAEDN  ...  \\\n",
      "2000000  386376426820      1      0  2017-03-29  00:00:00.0000000  ...   \n",
      "2000001  335251094160      1      0  2017-03-29  00:00:00.0000000  ...   \n",
      "2000002  371301310658      1      0  2017-03-29  00:00:00.0000000  ...   \n",
      "2000003  399376409392      1      0  2017-03-30  00:00:00.0000000  ...   \n",
      "2000004  383751380623      1      0  2017-03-30  00:00:00.0000000  ...   \n",
      "\n",
      "           BETRH   SBETH  BUDAT_REVERSE  STORB IMPORT_FLAG  \\\n",
      "2000000   497.03   32.52              N    NaN           N   \n",
      "2000001   196.55   12.86              N    NaN           N   \n",
      "2000002   425.50   27.84              N    NaN           N   \n",
      "2000003  2099.35  137.34              N    NaN           N   \n",
      "2000004   213.94   14.00              N    NaN           N   \n",
      "\n",
      "                  IMPORT_DATE                   ARCHIVEDATE    payid  \\\n",
      "2000000  2017-03-28  04:21:59  2017-11-07  05:05:45.8094372  3580015   \n",
      "2000001  2017-03-28  04:21:59  2017-10-28  05:24:27.4833426  3580016   \n",
      "2000002  2017-03-28  04:21:59  2017-10-28  19:58:56.1939862  3580017   \n",
      "2000003  2017-03-28  04:21:59  2017-11-05  15:41:28.5495348  3580018   \n",
      "2000004  2017-03-28  04:21:59  2017-10-31  16:48:36.0803861  3580019   \n",
      "\n",
      "                               VKONT_Hash                      ZZBUPLA_Hash  \n",
      "2000000  1247120ef3e46adf99135093cac52156  dd1e0a262ecf6a3d052359d5adb46608  \n",
      "2000001  47c7c0e402233fb0d3063878926558c2  dd1e0a262ecf6a3d052359d5adb46608  \n",
      "2000002  1309ae13447a28a5a06b294f08ee2136  dd1e0a262ecf6a3d052359d5adb46608  \n",
      "2000003  d635c673ac9b839186661e8d4dbe4b29  dd1e0a262ecf6a3d052359d5adb46608  \n",
      "2000004  bf53b0a92c18e5b7f92e85880e82abbb  dd1e0a262ecf6a3d052359d5adb46608  \n",
      "\n",
      "[5 rows x 22 columns]\n"
     ]
    }
   ],
   "source": [
    "\n",
    "for df_chunk in tqdm(pd.read_csv(PATH, chunksize=chunksize), desc='read invoice file'):\n",
    "    #do something\n",
    "    print(df_chunk.head())\n",
    "    pass"
   ]
  },
  {
   "cell_type": "code",
   "execution_count": null,
   "metadata": {},
   "outputs": [],
   "source": []
  },
  {
   "cell_type": "code",
   "execution_count": null,
   "metadata": {
    "scrolled": false
   },
   "outputs": [],
   "source": []
  },
  {
   "cell_type": "code",
   "execution_count": null,
   "metadata": {},
   "outputs": [],
   "source": []
  },
  {
   "cell_type": "code",
   "execution_count": null,
   "metadata": {},
   "outputs": [],
   "source": []
  },
  {
   "cell_type": "code",
   "execution_count": null,
   "metadata": {
    "scrolled": false
   },
   "outputs": [],
   "source": []
  },
  {
   "cell_type": "code",
   "execution_count": null,
   "metadata": {
    "collapsed": true
   },
   "outputs": [],
   "source": []
  },
  {
   "cell_type": "code",
   "execution_count": null,
   "metadata": {
    "collapsed": true
   },
   "outputs": [],
   "source": []
  },
  {
   "cell_type": "code",
   "execution_count": null,
   "metadata": {
    "collapsed": true
   },
   "outputs": [],
   "source": []
  },
  {
   "cell_type": "code",
   "execution_count": null,
   "metadata": {
    "collapsed": true
   },
   "outputs": [],
   "source": []
  },
  {
   "cell_type": "code",
   "execution_count": null,
   "metadata": {
    "collapsed": true
   },
   "outputs": [],
   "source": []
  },
  {
   "cell_type": "code",
   "execution_count": null,
   "metadata": {
    "collapsed": true
   },
   "outputs": [],
   "source": []
  },
  {
   "cell_type": "code",
   "execution_count": null,
   "metadata": {},
   "outputs": [],
   "source": []
  },
  {
   "cell_type": "code",
   "execution_count": null,
   "metadata": {
    "collapsed": true
   },
   "outputs": [],
   "source": []
  }
 ],
 "metadata": {
  "kernelspec": {
   "display_name": "Python 3",
   "language": "python",
   "name": "python3"
  },
  "language_info": {
   "codemirror_mode": {
    "name": "ipython",
    "version": 3
   },
   "file_extension": ".py",
   "mimetype": "text/x-python",
   "name": "python",
   "nbconvert_exporter": "python",
   "pygments_lexer": "ipython3",
   "version": "3.6.8"
  }
 },
 "nbformat": 4,
 "nbformat_minor": 2
}
